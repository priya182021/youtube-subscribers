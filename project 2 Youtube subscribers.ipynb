{
 "cells": [
  {
   "cell_type": "code",
   "execution_count": 1,
   "id": "b6820e91",
   "metadata": {},
   "outputs": [],
   "source": [
    "import pandas as pd\n",
    "import numpy as np\n",
    "import matplotlib.pyplot as plt\n",
    "import seaborn as sns"
   ]
  },
  {
   "cell_type": "code",
   "execution_count": 2,
   "id": "edad88ea",
   "metadata": {},
   "outputs": [],
   "source": [
    "df=pd.read_csv(\"topSubscribed.csv\")"
   ]
  },
  {
   "cell_type": "code",
   "execution_count": 3,
   "id": "3d834bb6",
   "metadata": {},
   "outputs": [
    {
     "data": {
      "text/html": [
       "<div>\n",
       "<style scoped>\n",
       "    .dataframe tbody tr th:only-of-type {\n",
       "        vertical-align: middle;\n",
       "    }\n",
       "\n",
       "    .dataframe tbody tr th {\n",
       "        vertical-align: top;\n",
       "    }\n",
       "\n",
       "    .dataframe thead th {\n",
       "        text-align: right;\n",
       "    }\n",
       "</style>\n",
       "<table border=\"1\" class=\"dataframe\">\n",
       "  <thead>\n",
       "    <tr style=\"text-align: right;\">\n",
       "      <th></th>\n",
       "      <th>Rank</th>\n",
       "      <th>Youtube Channel</th>\n",
       "      <th>Subscribers</th>\n",
       "      <th>Video Views</th>\n",
       "      <th>Video Count</th>\n",
       "      <th>Category</th>\n",
       "      <th>Started</th>\n",
       "    </tr>\n",
       "  </thead>\n",
       "  <tbody>\n",
       "    <tr>\n",
       "      <th>0</th>\n",
       "      <td>1</td>\n",
       "      <td>T-Series</td>\n",
       "      <td>234,000,000</td>\n",
       "      <td>212,900,271,553</td>\n",
       "      <td>18,515</td>\n",
       "      <td>Music</td>\n",
       "      <td>2006</td>\n",
       "    </tr>\n",
       "    <tr>\n",
       "      <th>1</th>\n",
       "      <td>2</td>\n",
       "      <td>YouTube Movies</td>\n",
       "      <td>161,000,000</td>\n",
       "      <td>0</td>\n",
       "      <td>0</td>\n",
       "      <td>Film &amp; Animation</td>\n",
       "      <td>2015</td>\n",
       "    </tr>\n",
       "    <tr>\n",
       "      <th>2</th>\n",
       "      <td>3</td>\n",
       "      <td>Cocomelon - Nursery Rhymes</td>\n",
       "      <td>152,000,000</td>\n",
       "      <td>149,084,178,448</td>\n",
       "      <td>846</td>\n",
       "      <td>Education</td>\n",
       "      <td>2006</td>\n",
       "    </tr>\n",
       "    <tr>\n",
       "      <th>3</th>\n",
       "      <td>4</td>\n",
       "      <td>SET India</td>\n",
       "      <td>150,000,000</td>\n",
       "      <td>137,828,094,104</td>\n",
       "      <td>103,200</td>\n",
       "      <td>Shows</td>\n",
       "      <td>2006</td>\n",
       "    </tr>\n",
       "    <tr>\n",
       "      <th>4</th>\n",
       "      <td>5</td>\n",
       "      <td>MrBeast</td>\n",
       "      <td>128,000,000</td>\n",
       "      <td>21,549,128,785</td>\n",
       "      <td>733</td>\n",
       "      <td>Entertainment</td>\n",
       "      <td>2012</td>\n",
       "    </tr>\n",
       "    <tr>\n",
       "      <th>...</th>\n",
       "      <td>...</td>\n",
       "      <td>...</td>\n",
       "      <td>...</td>\n",
       "      <td>...</td>\n",
       "      <td>...</td>\n",
       "      <td>...</td>\n",
       "      <td>...</td>\n",
       "    </tr>\n",
       "    <tr>\n",
       "      <th>995</th>\n",
       "      <td>996</td>\n",
       "      <td>XO TEAM</td>\n",
       "      <td>11,500,000</td>\n",
       "      <td>11,471,384,709</td>\n",
       "      <td>2,679</td>\n",
       "      <td>People &amp; Blogs</td>\n",
       "      <td>2021</td>\n",
       "    </tr>\n",
       "    <tr>\n",
       "      <th>996</th>\n",
       "      <td>997</td>\n",
       "      <td>Nirahua Music World</td>\n",
       "      <td>11,500,000</td>\n",
       "      <td>5,997,717,755</td>\n",
       "      <td>788</td>\n",
       "      <td>Music</td>\n",
       "      <td>2014</td>\n",
       "    </tr>\n",
       "    <tr>\n",
       "      <th>997</th>\n",
       "      <td>998</td>\n",
       "      <td>YtCrash</td>\n",
       "      <td>11,400,000</td>\n",
       "      <td>3,825,084</td>\n",
       "      <td>1</td>\n",
       "      <td>Education</td>\n",
       "      <td>2015</td>\n",
       "    </tr>\n",
       "    <tr>\n",
       "      <th>998</th>\n",
       "      <td>999</td>\n",
       "      <td>Painzeiro</td>\n",
       "      <td>11,400,000</td>\n",
       "      <td>2,143,444,281</td>\n",
       "      <td>946</td>\n",
       "      <td>People &amp; Blogs</td>\n",
       "      <td>2015</td>\n",
       "    </tr>\n",
       "    <tr>\n",
       "      <th>999</th>\n",
       "      <td>1000</td>\n",
       "      <td>Oum Walid</td>\n",
       "      <td>11,400,000</td>\n",
       "      <td>2,480,064,722</td>\n",
       "      <td>1,598</td>\n",
       "      <td>People &amp; Blogs</td>\n",
       "      <td>2015</td>\n",
       "    </tr>\n",
       "  </tbody>\n",
       "</table>\n",
       "<p>1000 rows × 7 columns</p>\n",
       "</div>"
      ],
      "text/plain": [
       "     Rank             Youtube Channel  Subscribers      Video Views  \\\n",
       "0       1                    T-Series  234,000,000  212,900,271,553   \n",
       "1       2              YouTube Movies  161,000,000                0   \n",
       "2       3  Cocomelon - Nursery Rhymes  152,000,000  149,084,178,448   \n",
       "3       4                   SET India  150,000,000  137,828,094,104   \n",
       "4       5                     MrBeast  128,000,000   21,549,128,785   \n",
       "..    ...                         ...          ...              ...   \n",
       "995   996                     XO TEAM   11,500,000   11,471,384,709   \n",
       "996   997         Nirahua Music World   11,500,000    5,997,717,755   \n",
       "997   998                     YtCrash   11,400,000        3,825,084   \n",
       "998   999                   Painzeiro   11,400,000    2,143,444,281   \n",
       "999  1000                   Oum Walid   11,400,000    2,480,064,722   \n",
       "\n",
       "    Video Count          Category  Started  \n",
       "0        18,515             Music     2006  \n",
       "1             0  Film & Animation     2015  \n",
       "2           846         Education     2006  \n",
       "3       103,200             Shows     2006  \n",
       "4           733     Entertainment     2012  \n",
       "..          ...               ...      ...  \n",
       "995       2,679    People & Blogs     2021  \n",
       "996         788             Music     2014  \n",
       "997           1         Education     2015  \n",
       "998         946    People & Blogs     2015  \n",
       "999       1,598    People & Blogs     2015  \n",
       "\n",
       "[1000 rows x 7 columns]"
      ]
     },
     "execution_count": 3,
     "metadata": {},
     "output_type": "execute_result"
    }
   ],
   "source": [
    "df"
   ]
  },
  {
   "cell_type": "code",
   "execution_count": 4,
   "id": "3c629cee",
   "metadata": {},
   "outputs": [
    {
     "name": "stdout",
     "output_type": "stream",
     "text": [
      "<class 'pandas.core.frame.DataFrame'>\n",
      "RangeIndex: 1000 entries, 0 to 999\n",
      "Data columns (total 7 columns):\n",
      " #   Column           Non-Null Count  Dtype \n",
      "---  ------           --------------  ----- \n",
      " 0   Rank             1000 non-null   int64 \n",
      " 1   Youtube Channel  1000 non-null   object\n",
      " 2   Subscribers      1000 non-null   object\n",
      " 3   Video Views      1000 non-null   object\n",
      " 4   Video Count      1000 non-null   object\n",
      " 5   Category         1000 non-null   object\n",
      " 6   Started          1000 non-null   int64 \n",
      "dtypes: int64(2), object(5)\n",
      "memory usage: 54.8+ KB\n"
     ]
    }
   ],
   "source": [
    "df.info()"
   ]
  },
  {
   "cell_type": "code",
   "execution_count": 7,
   "id": "b7f9e295",
   "metadata": {},
   "outputs": [
    {
     "data": {
      "text/plain": [
       "Youtube Channel    0\n",
       "Subscribers        0\n",
       "Video Views        0\n",
       "Video Count        0\n",
       "Category           0\n",
       "Started            0\n",
       "dtype: int64"
      ]
     },
     "execution_count": 7,
     "metadata": {},
     "output_type": "execute_result"
    }
   ],
   "source": [
    "df.isnull().sum()"
   ]
  },
  {
   "cell_type": "code",
   "execution_count": 5,
   "id": "47b087e8",
   "metadata": {},
   "outputs": [],
   "source": [
    "df[\"Subscribers\"]=df[\"Subscribers\"].str.replace(',','')\n",
    "df[\"Video Views\"]=df[\"Video Views\"].str.replace(',','')\n",
    "df[\"Video Count\"]=df[\"Video Count\"].str.replace(',','')"
   ]
  },
  {
   "cell_type": "code",
   "execution_count": 6,
   "id": "786d2c4d",
   "metadata": {},
   "outputs": [],
   "source": [
    "df[\"Subscribers\"]=df[\"Subscribers\"].astype(\"float64\")\n",
    "df[\"Video Views\"]=df[\"Video Views\"].astype(\"float64\")\n",
    "df[\"Video Count\"]=df[\"Video Count\"].astype(\"float64\")"
   ]
  },
  {
   "cell_type": "code",
   "execution_count": 7,
   "id": "428ee7e9",
   "metadata": {},
   "outputs": [],
   "source": [
    "df.columns=df.columns.str.replace(' ','_')"
   ]
  },
  {
   "cell_type": "code",
   "execution_count": 8,
   "id": "1563bfec",
   "metadata": {},
   "outputs": [
    {
     "data": {
      "text/plain": [
       "Entertainment                                                                   238\n",
       "Music                                                                           217\n",
       "People & Blogs                                                                  132\n",
       "Gaming                                                                           94\n",
       "Comedy                                                                           68\n",
       "Film & Animation                                                                 50\n",
       "Education                                                                        45\n",
       "Howto & Style                                                                    43\n",
       "https://us.youtubers.me/global/all/top-1000-most_subscribed-youtube-channels     30\n",
       "News & Politics                                                                  27\n",
       "Science & Technology                                                             18\n",
       "Shows                                                                            14\n",
       "Sports                                                                           10\n",
       "Pets & Animals                                                                    6\n",
       "Trailers                                                                          2\n",
       "Nonprofits & Activism                                                             2\n",
       "Movies                                                                            2\n",
       "Autos & Vehicles                                                                  1\n",
       "Travel & Events                                                                   1\n",
       "Name: Category, dtype: int64"
      ]
     },
     "execution_count": 8,
     "metadata": {},
     "output_type": "execute_result"
    }
   ],
   "source": [
    "df[\"Category\"].value_counts()"
   ]
  },
  {
   "cell_type": "code",
   "execution_count": 9,
   "id": "322e3229",
   "metadata": {
    "scrolled": true
   },
   "outputs": [
    {
     "data": {
      "text/plain": [
       "Entertainment            238\n",
       "Music                    217\n",
       "People & Blogs           132\n",
       "Gaming                    94\n",
       "Comedy                    68\n",
       "Film & Animation          50\n",
       "Education                 45\n",
       "Howto & Style             43\n",
       "News & Politics           27\n",
       "Science & Technology      18\n",
       "Shows                     14\n",
       "Sports                    10\n",
       "Pets & Animals             6\n",
       "Trailers                   2\n",
       "Nonprofits & Activism      2\n",
       "Movies                     2\n",
       "Autos & Vehicles           1\n",
       "Travel & Events            1\n",
       "Name: Category, dtype: int64"
      ]
     },
     "execution_count": 9,
     "metadata": {},
     "output_type": "execute_result"
    }
   ],
   "source": [
    "df = df[df.Category != 'https://us.youtubers.me/global/all/top-1000-most_subscribed-youtube-channels']\n",
    "\n",
    "df['Category'].value_counts()"
   ]
  },
  {
   "cell_type": "code",
   "execution_count": 10,
   "id": "549f4610",
   "metadata": {},
   "outputs": [
    {
     "data": {
      "text/html": [
       "<div>\n",
       "<style scoped>\n",
       "    .dataframe tbody tr th:only-of-type {\n",
       "        vertical-align: middle;\n",
       "    }\n",
       "\n",
       "    .dataframe tbody tr th {\n",
       "        vertical-align: top;\n",
       "    }\n",
       "\n",
       "    .dataframe thead th {\n",
       "        text-align: right;\n",
       "    }\n",
       "</style>\n",
       "<table border=\"1\" class=\"dataframe\">\n",
       "  <thead>\n",
       "    <tr style=\"text-align: right;\">\n",
       "      <th></th>\n",
       "      <th>Video_Views</th>\n",
       "      <th>Youtube_Channel</th>\n",
       "    </tr>\n",
       "  </thead>\n",
       "  <tbody>\n",
       "    <tr>\n",
       "      <th>0</th>\n",
       "      <td>2.129003e+11</td>\n",
       "      <td>T-Series</td>\n",
       "    </tr>\n",
       "    <tr>\n",
       "      <th>2</th>\n",
       "      <td>1.490842e+11</td>\n",
       "      <td>Cocomelon - Nursery Rhymes</td>\n",
       "    </tr>\n",
       "    <tr>\n",
       "      <th>3</th>\n",
       "      <td>1.378281e+11</td>\n",
       "      <td>SET India</td>\n",
       "    </tr>\n",
       "    <tr>\n",
       "      <th>16</th>\n",
       "      <td>9.111729e+10</td>\n",
       "      <td>Sony SAB</td>\n",
       "    </tr>\n",
       "    <tr>\n",
       "      <th>8</th>\n",
       "      <td>8.720294e+10</td>\n",
       "      <td>Like Nastya</td>\n",
       "    </tr>\n",
       "    <tr>\n",
       "      <th>7</th>\n",
       "      <td>8.663857e+10</td>\n",
       "      <td>✿ Kids Diana Show</td>\n",
       "    </tr>\n",
       "    <tr>\n",
       "      <th>10</th>\n",
       "      <td>7.357770e+10</td>\n",
       "      <td>WWE</td>\n",
       "    </tr>\n",
       "    <tr>\n",
       "      <th>11</th>\n",
       "      <td>7.244412e+10</td>\n",
       "      <td>Vlad and Niki</td>\n",
       "    </tr>\n",
       "    <tr>\n",
       "      <th>28</th>\n",
       "      <td>5.949393e+10</td>\n",
       "      <td>Movieclips</td>\n",
       "    </tr>\n",
       "    <tr>\n",
       "      <th>26</th>\n",
       "      <td>5.782565e+10</td>\n",
       "      <td>Colors TV</td>\n",
       "    </tr>\n",
       "  </tbody>\n",
       "</table>\n",
       "</div>"
      ],
      "text/plain": [
       "     Video_Views             Youtube_Channel\n",
       "0   2.129003e+11                    T-Series\n",
       "2   1.490842e+11  Cocomelon - Nursery Rhymes\n",
       "3   1.378281e+11                   SET India\n",
       "16  9.111729e+10                    Sony SAB\n",
       "8   8.720294e+10                 Like Nastya\n",
       "7   8.663857e+10           ✿ Kids Diana Show\n",
       "10  7.357770e+10                         WWE\n",
       "11  7.244412e+10               Vlad and Niki\n",
       "28  5.949393e+10                  Movieclips\n",
       "26  5.782565e+10                   Colors TV"
      ]
     },
     "execution_count": 10,
     "metadata": {},
     "output_type": "execute_result"
    }
   ],
   "source": [
    "df[[\"Video_Views\",\"Youtube_Channel\"]].sort_values(by = \"Video_Views\", ascending  = False).head(10)"
   ]
  },
  {
   "cell_type": "code",
   "execution_count": 12,
   "id": "a14b1f3b",
   "metadata": {},
   "outputs": [
    {
     "data": {
      "text/plain": [
       "Rank                            1\n",
       "Youtube_Channel          T-Series\n",
       "Subscribers           234000000.0\n",
       "Video_Views        212900271553.0\n",
       "Video_Count               18515.0\n",
       "Category                    Music\n",
       "Started                      2006\n",
       "Name: 0, dtype: object"
      ]
     },
     "execution_count": 12,
     "metadata": {},
     "output_type": "execute_result"
    }
   ],
   "source": [
    "# Channel with highest views\n",
    "df.iloc[df['Video_Views'].argmax()]"
   ]
  },
  {
   "cell_type": "code",
   "execution_count": 16,
   "id": "66da7632",
   "metadata": {},
   "outputs": [
    {
     "data": {
      "text/plain": [
       "Entertainment            238\n",
       "Music                    217\n",
       "People & Blogs           132\n",
       "Gaming                    94\n",
       "Comedy                    68\n",
       "Film & Animation          50\n",
       "Education                 45\n",
       "Howto & Style             43\n",
       "News & Politics           27\n",
       "Science & Technology      18\n",
       "Shows                     14\n",
       "Sports                    10\n",
       "Pets & Animals             6\n",
       "Trailers                   2\n",
       "Nonprofits & Activism      2\n",
       "Movies                     2\n",
       "Autos & Vehicles           1\n",
       "Travel & Events            1\n",
       "Name: Category, dtype: int64"
      ]
     },
     "execution_count": 16,
     "metadata": {},
     "output_type": "execute_result"
    }
   ],
   "source": [
    "df[\"Category\"].value_counts()"
   ]
  },
  {
   "cell_type": "code",
   "execution_count": 13,
   "id": "479b98f7",
   "metadata": {},
   "outputs": [
    {
     "data": {
      "image/png": "[encoded data removed]",
      "text/plain": [
       "<Figure size 864x720 with 1 Axes>"
      ]
     },
     "metadata": {
      "needs_background": "light"
     },
     "output_type": "display_data"
    }
   ],
   "source": [
    "top5 = df[\"Category\"].value_counts().head(5)\n",
    "\n",
    "plt.figure(figsize=(12,10))\n",
    "\n",
    "ax = sns.countplot(x=df[\"Category\"],order=top5.index)\n",
    "ax.bar_label(ax.containers[0])\n",
    "plt.show()"
   ]
  },
  {
   "cell_type": "code",
   "execution_count": 39,
   "id": "35815fc6",
   "metadata": {},
   "outputs": [
    {
     "data": {
      "image/png": "[encoded data removed]",
      "text/plain": [
       "<Figure size 1440x1080 with 1 Axes>"
      ]
     },
     "metadata": {},
     "output_type": "display_data"
    },
    {
     "data": {
      "text/plain": [
       "<Figure size 1008x864 with 0 Axes>"
      ]
     },
     "metadata": {},
     "output_type": "display_data"
    }
   ],
   "source": [
    "sns.countplot(x=\"Started\",data=df)\n",
    "plt.figure(figsize=(14,12))\n",
    "plt.show()"
   ]
  },
  {
   "cell_type": "code",
   "execution_count": 43,
   "id": "10381252",
   "metadata": {},
   "outputs": [
    {
     "data": {
      "text/html": [
       "<div>\n",
       "<style scoped>\n",
       "    .dataframe tbody tr th:only-of-type {\n",
       "        vertical-align: middle;\n",
       "    }\n",
       "\n",
       "    .dataframe tbody tr th {\n",
       "        vertical-align: top;\n",
       "    }\n",
       "\n",
       "    .dataframe thead th {\n",
       "        text-align: right;\n",
       "    }\n",
       "</style>\n",
       "<table border=\"1\" class=\"dataframe\">\n",
       "  <thead>\n",
       "    <tr style=\"text-align: right;\">\n",
       "      <th></th>\n",
       "      <th>Subscribers</th>\n",
       "      <th>Video_Views</th>\n",
       "      <th>Video_Count</th>\n",
       "      <th>Started</th>\n",
       "      <th>Total_Views</th>\n",
       "    </tr>\n",
       "  </thead>\n",
       "  <tbody>\n",
       "    <tr>\n",
       "      <th>Subscribers</th>\n",
       "      <td>1.000000</td>\n",
       "      <td>0.753648</td>\n",
       "      <td>0.064661</td>\n",
       "      <td>-0.135162</td>\n",
       "      <td>0.753648</td>\n",
       "    </tr>\n",
       "    <tr>\n",
       "      <th>Video_Views</th>\n",
       "      <td>0.753648</td>\n",
       "      <td>1.000000</td>\n",
       "      <td>0.151196</td>\n",
       "      <td>-0.157634</td>\n",
       "      <td>1.000000</td>\n",
       "    </tr>\n",
       "    <tr>\n",
       "      <th>Video_Count</th>\n",
       "      <td>0.064661</td>\n",
       "      <td>0.151196</td>\n",
       "      <td>1.000000</td>\n",
       "      <td>-0.141080</td>\n",
       "      <td>0.151194</td>\n",
       "    </tr>\n",
       "    <tr>\n",
       "      <th>Started</th>\n",
       "      <td>-0.135162</td>\n",
       "      <td>-0.157634</td>\n",
       "      <td>-0.141080</td>\n",
       "      <td>1.000000</td>\n",
       "      <td>-0.157634</td>\n",
       "    </tr>\n",
       "    <tr>\n",
       "      <th>Total_Views</th>\n",
       "      <td>0.753648</td>\n",
       "      <td>1.000000</td>\n",
       "      <td>0.151194</td>\n",
       "      <td>-0.157634</td>\n",
       "      <td>1.000000</td>\n",
       "    </tr>\n",
       "  </tbody>\n",
       "</table>\n",
       "</div>"
      ],
      "text/plain": [
       "             Subscribers  Video_Views  Video_Count   Started  Total_Views\n",
       "Subscribers     1.000000     0.753648     0.064661 -0.135162     0.753648\n",
       "Video_Views     0.753648     1.000000     0.151196 -0.157634     1.000000\n",
       "Video_Count     0.064661     0.151196     1.000000 -0.141080     0.151194\n",
       "Started        -0.135162    -0.157634    -0.141080  1.000000    -0.157634\n",
       "Total_Views     0.753648     1.000000     0.151194 -0.157634     1.000000"
      ]
     },
     "execution_count": 43,
     "metadata": {},
     "output_type": "execute_result"
    }
   ],
   "source": [
    "df.corr()"
   ]
  },
  {
   "cell_type": "code",
   "execution_count": 15,
   "id": "6496f3fb",
   "metadata": {},
   "outputs": [
    {
     "data": {
      "image/png": "[encoded data removed]",
      "text/plain": [
       "<Figure size 864x648 with 1 Axes>"
      ]
     },
     "metadata": {},
     "output_type": "display_data"
    }
   ],
   "source": [
    "# New dataframe to hold category value count\n",
    "df_byCat = df['Category'].value_counts().to_frame('Count').rename_axis('Category').reset_index()\n",
    "\n",
    "df_byCat \n",
    "labels = df_byCat['Category']\n",
    "plt.figure(figsize=(12,9))\n",
    "plt.pie(df_byCat['Count'], autopct='%1.1f%%',shadow=False, startangle=90)\n",
    "plt.axis('equal')\n",
    "plt.show()"
   ]
  }
 ],
 "metadata": {
  "kernelspec": {
   "display_name": "Python 3 (ipykernel)",
   "language": "python",
   "name": "python3"
  },
  "language_info": {
   "codemirror_mode": {
    "name": "ipython",
    "version": 3
   },
   "file_extension": ".py",
   "mimetype": "text/x-python",
   "name": "python",
   "nbconvert_exporter": "python",
   "pygments_lexer": "ipython3",
   "version": "3.9.7"
  }
 },
 "nbformat": 4,
 "nbformat_minor": 5
}
